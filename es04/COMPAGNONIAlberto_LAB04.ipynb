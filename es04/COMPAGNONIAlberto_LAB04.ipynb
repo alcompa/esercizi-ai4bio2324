{
  "nbformat": 4,
  "nbformat_minor": 0,
  "metadata": {
    "colab": {
      "provenance": [],
      "gpuType": "T4"
    },
    "kernelspec": {
      "name": "python3",
      "display_name": "Python 3"
    },
    "language_info": {
      "name": "python"
    },
    "accelerator": "GPU",
    "widgets": {
      "application/vnd.jupyter.widget-state+json": {
        "afcd645567ad427fafb004641ee3d203": {
          "model_module": "@jupyter-widgets/controls",
          "model_name": "HBoxModel",
          "model_module_version": "1.5.0",
          "state": {
            "_dom_classes": [],
            "_model_module": "@jupyter-widgets/controls",
            "_model_module_version": "1.5.0",
            "_model_name": "HBoxModel",
            "_view_count": null,
            "_view_module": "@jupyter-widgets/controls",
            "_view_module_version": "1.5.0",
            "_view_name": "HBoxView",
            "box_style": "",
            "children": [
              "IPY_MODEL_5d83aee72cc34a58aaaa9da0769618b1",
              "IPY_MODEL_8b3dc108f4a745d89883970fc5cbbb49",
              "IPY_MODEL_50a0311ad46747edbf549f2b9da3625f"
            ],
            "layout": "IPY_MODEL_2cd1bd4a3361485a918001e55405153a"
          }
        },
        "5d83aee72cc34a58aaaa9da0769618b1": {
          "model_module": "@jupyter-widgets/controls",
          "model_name": "HTMLModel",
          "model_module_version": "1.5.0",
          "state": {
            "_dom_classes": [],
            "_model_module": "@jupyter-widgets/controls",
            "_model_module_version": "1.5.0",
            "_model_name": "HTMLModel",
            "_view_count": null,
            "_view_module": "@jupyter-widgets/controls",
            "_view_module_version": "1.5.0",
            "_view_name": "HTMLView",
            "description": "",
            "description_tooltip": null,
            "layout": "IPY_MODEL_69b7725fae5541cc8ed2532b39b9f7c5",
            "placeholder": "​",
            "style": "IPY_MODEL_2d468b0fb1be4e868e3cf12ea2acadef",
            "value": "100%"
          }
        },
        "8b3dc108f4a745d89883970fc5cbbb49": {
          "model_module": "@jupyter-widgets/controls",
          "model_name": "FloatProgressModel",
          "model_module_version": "1.5.0",
          "state": {
            "_dom_classes": [],
            "_model_module": "@jupyter-widgets/controls",
            "_model_module_version": "1.5.0",
            "_model_name": "FloatProgressModel",
            "_view_count": null,
            "_view_module": "@jupyter-widgets/controls",
            "_view_module_version": "1.5.0",
            "_view_name": "ProgressView",
            "bar_style": "success",
            "description": "",
            "description_tooltip": null,
            "layout": "IPY_MODEL_f46dc71f8e904c149b536b3f6209ea62",
            "max": 98,
            "min": 0,
            "orientation": "horizontal",
            "style": "IPY_MODEL_24f06f8b465246ab8e70d46654ca3bc4",
            "value": 98
          }
        },
        "50a0311ad46747edbf549f2b9da3625f": {
          "model_module": "@jupyter-widgets/controls",
          "model_name": "HTMLModel",
          "model_module_version": "1.5.0",
          "state": {
            "_dom_classes": [],
            "_model_module": "@jupyter-widgets/controls",
            "_model_module_version": "1.5.0",
            "_model_name": "HTMLModel",
            "_view_count": null,
            "_view_module": "@jupyter-widgets/controls",
            "_view_module_version": "1.5.0",
            "_view_name": "HTMLView",
            "description": "",
            "description_tooltip": null,
            "layout": "IPY_MODEL_34fdbddb88344568a378e6ceaeb40719",
            "placeholder": "​",
            "style": "IPY_MODEL_2c051424bcdf444586887a148a91973d",
            "value": " 98/98 [02:26&lt;00:00,  1.37s/it]"
          }
        },
        "2cd1bd4a3361485a918001e55405153a": {
          "model_module": "@jupyter-widgets/base",
          "model_name": "LayoutModel",
          "model_module_version": "1.2.0",
          "state": {
            "_model_module": "@jupyter-widgets/base",
            "_model_module_version": "1.2.0",
            "_model_name": "LayoutModel",
            "_view_count": null,
            "_view_module": "@jupyter-widgets/base",
            "_view_module_version": "1.2.0",
            "_view_name": "LayoutView",
            "align_content": null,
            "align_items": null,
            "align_self": null,
            "border": null,
            "bottom": null,
            "display": null,
            "flex": null,
            "flex_flow": null,
            "grid_area": null,
            "grid_auto_columns": null,
            "grid_auto_flow": null,
            "grid_auto_rows": null,
            "grid_column": null,
            "grid_gap": null,
            "grid_row": null,
            "grid_template_areas": null,
            "grid_template_columns": null,
            "grid_template_rows": null,
            "height": null,
            "justify_content": null,
            "justify_items": null,
            "left": null,
            "margin": null,
            "max_height": null,
            "max_width": null,
            "min_height": null,
            "min_width": null,
            "object_fit": null,
            "object_position": null,
            "order": null,
            "overflow": null,
            "overflow_x": null,
            "overflow_y": null,
            "padding": null,
            "right": null,
            "top": null,
            "visibility": null,
            "width": null
          }
        },
        "69b7725fae5541cc8ed2532b39b9f7c5": {
          "model_module": "@jupyter-widgets/base",
          "model_name": "LayoutModel",
          "model_module_version": "1.2.0",
          "state": {
            "_model_module": "@jupyter-widgets/base",
            "_model_module_version": "1.2.0",
            "_model_name": "LayoutModel",
            "_view_count": null,
            "_view_module": "@jupyter-widgets/base",
            "_view_module_version": "1.2.0",
            "_view_name": "LayoutView",
            "align_content": null,
            "align_items": null,
            "align_self": null,
            "border": null,
            "bottom": null,
            "display": null,
            "flex": null,
            "flex_flow": null,
            "grid_area": null,
            "grid_auto_columns": null,
            "grid_auto_flow": null,
            "grid_auto_rows": null,
            "grid_column": null,
            "grid_gap": null,
            "grid_row": null,
            "grid_template_areas": null,
            "grid_template_columns": null,
            "grid_template_rows": null,
            "height": null,
            "justify_content": null,
            "justify_items": null,
            "left": null,
            "margin": null,
            "max_height": null,
            "max_width": null,
            "min_height": null,
            "min_width": null,
            "object_fit": null,
            "object_position": null,
            "order": null,
            "overflow": null,
            "overflow_x": null,
            "overflow_y": null,
            "padding": null,
            "right": null,
            "top": null,
            "visibility": null,
            "width": null
          }
        },
        "2d468b0fb1be4e868e3cf12ea2acadef": {
          "model_module": "@jupyter-widgets/controls",
          "model_name": "DescriptionStyleModel",
          "model_module_version": "1.5.0",
          "state": {
            "_model_module": "@jupyter-widgets/controls",
            "_model_module_version": "1.5.0",
            "_model_name": "DescriptionStyleModel",
            "_view_count": null,
            "_view_module": "@jupyter-widgets/base",
            "_view_module_version": "1.2.0",
            "_view_name": "StyleView",
            "description_width": ""
          }
        },
        "f46dc71f8e904c149b536b3f6209ea62": {
          "model_module": "@jupyter-widgets/base",
          "model_name": "LayoutModel",
          "model_module_version": "1.2.0",
          "state": {
            "_model_module": "@jupyter-widgets/base",
            "_model_module_version": "1.2.0",
            "_model_name": "LayoutModel",
            "_view_count": null,
            "_view_module": "@jupyter-widgets/base",
            "_view_module_version": "1.2.0",
            "_view_name": "LayoutView",
            "align_content": null,
            "align_items": null,
            "align_self": null,
            "border": null,
            "bottom": null,
            "display": null,
            "flex": null,
            "flex_flow": null,
            "grid_area": null,
            "grid_auto_columns": null,
            "grid_auto_flow": null,
            "grid_auto_rows": null,
            "grid_column": null,
            "grid_gap": null,
            "grid_row": null,
            "grid_template_areas": null,
            "grid_template_columns": null,
            "grid_template_rows": null,
            "height": null,
            "justify_content": null,
            "justify_items": null,
            "left": null,
            "margin": null,
            "max_height": null,
            "max_width": null,
            "min_height": null,
            "min_width": null,
            "object_fit": null,
            "object_position": null,
            "order": null,
            "overflow": null,
            "overflow_x": null,
            "overflow_y": null,
            "padding": null,
            "right": null,
            "top": null,
            "visibility": null,
            "width": null
          }
        },
        "24f06f8b465246ab8e70d46654ca3bc4": {
          "model_module": "@jupyter-widgets/controls",
          "model_name": "ProgressStyleModel",
          "model_module_version": "1.5.0",
          "state": {
            "_model_module": "@jupyter-widgets/controls",
            "_model_module_version": "1.5.0",
            "_model_name": "ProgressStyleModel",
            "_view_count": null,
            "_view_module": "@jupyter-widgets/base",
            "_view_module_version": "1.2.0",
            "_view_name": "StyleView",
            "bar_color": null,
            "description_width": ""
          }
        },
        "34fdbddb88344568a378e6ceaeb40719": {
          "model_module": "@jupyter-widgets/base",
          "model_name": "LayoutModel",
          "model_module_version": "1.2.0",
          "state": {
            "_model_module": "@jupyter-widgets/base",
            "_model_module_version": "1.2.0",
            "_model_name": "LayoutModel",
            "_view_count": null,
            "_view_module": "@jupyter-widgets/base",
            "_view_module_version": "1.2.0",
            "_view_name": "LayoutView",
            "align_content": null,
            "align_items": null,
            "align_self": null,
            "border": null,
            "bottom": null,
            "display": null,
            "flex": null,
            "flex_flow": null,
            "grid_area": null,
            "grid_auto_columns": null,
            "grid_auto_flow": null,
            "grid_auto_rows": null,
            "grid_column": null,
            "grid_gap": null,
            "grid_row": null,
            "grid_template_areas": null,
            "grid_template_columns": null,
            "grid_template_rows": null,
            "height": null,
            "justify_content": null,
            "justify_items": null,
            "left": null,
            "margin": null,
            "max_height": null,
            "max_width": null,
            "min_height": null,
            "min_width": null,
            "object_fit": null,
            "object_position": null,
            "order": null,
            "overflow": null,
            "overflow_x": null,
            "overflow_y": null,
            "padding": null,
            "right": null,
            "top": null,
            "visibility": null,
            "width": null
          }
        },
        "2c051424bcdf444586887a148a91973d": {
          "model_module": "@jupyter-widgets/controls",
          "model_name": "DescriptionStyleModel",
          "model_module_version": "1.5.0",
          "state": {
            "_model_module": "@jupyter-widgets/controls",
            "_model_module_version": "1.5.0",
            "_model_name": "DescriptionStyleModel",
            "_view_count": null,
            "_view_module": "@jupyter-widgets/base",
            "_view_module_version": "1.2.0",
            "_view_name": "StyleView",
            "description_width": ""
          }
        },
        "b164e02dfb9441078b67f4eb37c73ff6": {
          "model_module": "@jupyter-widgets/controls",
          "model_name": "HBoxModel",
          "model_module_version": "1.5.0",
          "state": {
            "_dom_classes": [],
            "_model_module": "@jupyter-widgets/controls",
            "_model_module_version": "1.5.0",
            "_model_name": "HBoxModel",
            "_view_count": null,
            "_view_module": "@jupyter-widgets/controls",
            "_view_module_version": "1.5.0",
            "_view_name": "HBoxView",
            "box_style": "",
            "children": [
              "IPY_MODEL_ada9afd6218248c5afbf0157f2b15395",
              "IPY_MODEL_b526b65945ed422aa5fdb2382fb6faa2",
              "IPY_MODEL_4ea2ed3e374548fd89b1d1d268db2468"
            ],
            "layout": "IPY_MODEL_981d11b8468b44e1a01fc22df4ce77b6"
          }
        },
        "ada9afd6218248c5afbf0157f2b15395": {
          "model_module": "@jupyter-widgets/controls",
          "model_name": "HTMLModel",
          "model_module_version": "1.5.0",
          "state": {
            "_dom_classes": [],
            "_model_module": "@jupyter-widgets/controls",
            "_model_module_version": "1.5.0",
            "_model_name": "HTMLModel",
            "_view_count": null,
            "_view_module": "@jupyter-widgets/controls",
            "_view_module_version": "1.5.0",
            "_view_name": "HTMLView",
            "description": "",
            "description_tooltip": null,
            "layout": "IPY_MODEL_1c4306bb46d14623a13fc639eba52d58",
            "placeholder": "​",
            "style": "IPY_MODEL_90728aa2be594b25a1ae34746911b7ea",
            "value": "100%"
          }
        },
        "b526b65945ed422aa5fdb2382fb6faa2": {
          "model_module": "@jupyter-widgets/controls",
          "model_name": "FloatProgressModel",
          "model_module_version": "1.5.0",
          "state": {
            "_dom_classes": [],
            "_model_module": "@jupyter-widgets/controls",
            "_model_module_version": "1.5.0",
            "_model_name": "FloatProgressModel",
            "_view_count": null,
            "_view_module": "@jupyter-widgets/controls",
            "_view_module_version": "1.5.0",
            "_view_name": "ProgressView",
            "bar_style": "success",
            "description": "",
            "description_tooltip": null,
            "layout": "IPY_MODEL_9cf67de9aafa43d790badc4699d2853d",
            "max": 98,
            "min": 0,
            "orientation": "horizontal",
            "style": "IPY_MODEL_f3a1a9386d684f2ca7fe53eae583e936",
            "value": 98
          }
        },
        "4ea2ed3e374548fd89b1d1d268db2468": {
          "model_module": "@jupyter-widgets/controls",
          "model_name": "HTMLModel",
          "model_module_version": "1.5.0",
          "state": {
            "_dom_classes": [],
            "_model_module": "@jupyter-widgets/controls",
            "_model_module_version": "1.5.0",
            "_model_name": "HTMLModel",
            "_view_count": null,
            "_view_module": "@jupyter-widgets/controls",
            "_view_module_version": "1.5.0",
            "_view_name": "HTMLView",
            "description": "",
            "description_tooltip": null,
            "layout": "IPY_MODEL_19615a57b2564fd88aa0d99e6ae8f37e",
            "placeholder": "​",
            "style": "IPY_MODEL_e091ec8c84854a74b5acca2890508dc8",
            "value": " 98/98 [02:32&lt;00:00,  1.40s/it]"
          }
        },
        "981d11b8468b44e1a01fc22df4ce77b6": {
          "model_module": "@jupyter-widgets/base",
          "model_name": "LayoutModel",
          "model_module_version": "1.2.0",
          "state": {
            "_model_module": "@jupyter-widgets/base",
            "_model_module_version": "1.2.0",
            "_model_name": "LayoutModel",
            "_view_count": null,
            "_view_module": "@jupyter-widgets/base",
            "_view_module_version": "1.2.0",
            "_view_name": "LayoutView",
            "align_content": null,
            "align_items": null,
            "align_self": null,
            "border": null,
            "bottom": null,
            "display": null,
            "flex": null,
            "flex_flow": null,
            "grid_area": null,
            "grid_auto_columns": null,
            "grid_auto_flow": null,
            "grid_auto_rows": null,
            "grid_column": null,
            "grid_gap": null,
            "grid_row": null,
            "grid_template_areas": null,
            "grid_template_columns": null,
            "grid_template_rows": null,
            "height": null,
            "justify_content": null,
            "justify_items": null,
            "left": null,
            "margin": null,
            "max_height": null,
            "max_width": null,
            "min_height": null,
            "min_width": null,
            "object_fit": null,
            "object_position": null,
            "order": null,
            "overflow": null,
            "overflow_x": null,
            "overflow_y": null,
            "padding": null,
            "right": null,
            "top": null,
            "visibility": null,
            "width": null
          }
        },
        "1c4306bb46d14623a13fc639eba52d58": {
          "model_module": "@jupyter-widgets/base",
          "model_name": "LayoutModel",
          "model_module_version": "1.2.0",
          "state": {
            "_model_module": "@jupyter-widgets/base",
            "_model_module_version": "1.2.0",
            "_model_name": "LayoutModel",
            "_view_count": null,
            "_view_module": "@jupyter-widgets/base",
            "_view_module_version": "1.2.0",
            "_view_name": "LayoutView",
            "align_content": null,
            "align_items": null,
            "align_self": null,
            "border": null,
            "bottom": null,
            "display": null,
            "flex": null,
            "flex_flow": null,
            "grid_area": null,
            "grid_auto_columns": null,
            "grid_auto_flow": null,
            "grid_auto_rows": null,
            "grid_column": null,
            "grid_gap": null,
            "grid_row": null,
            "grid_template_areas": null,
            "grid_template_columns": null,
            "grid_template_rows": null,
            "height": null,
            "justify_content": null,
            "justify_items": null,
            "left": null,
            "margin": null,
            "max_height": null,
            "max_width": null,
            "min_height": null,
            "min_width": null,
            "object_fit": null,
            "object_position": null,
            "order": null,
            "overflow": null,
            "overflow_x": null,
            "overflow_y": null,
            "padding": null,
            "right": null,
            "top": null,
            "visibility": null,
            "width": null
          }
        },
        "90728aa2be594b25a1ae34746911b7ea": {
          "model_module": "@jupyter-widgets/controls",
          "model_name": "DescriptionStyleModel",
          "model_module_version": "1.5.0",
          "state": {
            "_model_module": "@jupyter-widgets/controls",
            "_model_module_version": "1.5.0",
            "_model_name": "DescriptionStyleModel",
            "_view_count": null,
            "_view_module": "@jupyter-widgets/base",
            "_view_module_version": "1.2.0",
            "_view_name": "StyleView",
            "description_width": ""
          }
        },
        "9cf67de9aafa43d790badc4699d2853d": {
          "model_module": "@jupyter-widgets/base",
          "model_name": "LayoutModel",
          "model_module_version": "1.2.0",
          "state": {
            "_model_module": "@jupyter-widgets/base",
            "_model_module_version": "1.2.0",
            "_model_name": "LayoutModel",
            "_view_count": null,
            "_view_module": "@jupyter-widgets/base",
            "_view_module_version": "1.2.0",
            "_view_name": "LayoutView",
            "align_content": null,
            "align_items": null,
            "align_self": null,
            "border": null,
            "bottom": null,
            "display": null,
            "flex": null,
            "flex_flow": null,
            "grid_area": null,
            "grid_auto_columns": null,
            "grid_auto_flow": null,
            "grid_auto_rows": null,
            "grid_column": null,
            "grid_gap": null,
            "grid_row": null,
            "grid_template_areas": null,
            "grid_template_columns": null,
            "grid_template_rows": null,
            "height": null,
            "justify_content": null,
            "justify_items": null,
            "left": null,
            "margin": null,
            "max_height": null,
            "max_width": null,
            "min_height": null,
            "min_width": null,
            "object_fit": null,
            "object_position": null,
            "order": null,
            "overflow": null,
            "overflow_x": null,
            "overflow_y": null,
            "padding": null,
            "right": null,
            "top": null,
            "visibility": null,
            "width": null
          }
        },
        "f3a1a9386d684f2ca7fe53eae583e936": {
          "model_module": "@jupyter-widgets/controls",
          "model_name": "ProgressStyleModel",
          "model_module_version": "1.5.0",
          "state": {
            "_model_module": "@jupyter-widgets/controls",
            "_model_module_version": "1.5.0",
            "_model_name": "ProgressStyleModel",
            "_view_count": null,
            "_view_module": "@jupyter-widgets/base",
            "_view_module_version": "1.2.0",
            "_view_name": "StyleView",
            "bar_color": null,
            "description_width": ""
          }
        },
        "19615a57b2564fd88aa0d99e6ae8f37e": {
          "model_module": "@jupyter-widgets/base",
          "model_name": "LayoutModel",
          "model_module_version": "1.2.0",
          "state": {
            "_model_module": "@jupyter-widgets/base",
            "_model_module_version": "1.2.0",
            "_model_name": "LayoutModel",
            "_view_count": null,
            "_view_module": "@jupyter-widgets/base",
            "_view_module_version": "1.2.0",
            "_view_name": "LayoutView",
            "align_content": null,
            "align_items": null,
            "align_self": null,
            "border": null,
            "bottom": null,
            "display": null,
            "flex": null,
            "flex_flow": null,
            "grid_area": null,
            "grid_auto_columns": null,
            "grid_auto_flow": null,
            "grid_auto_rows": null,
            "grid_column": null,
            "grid_gap": null,
            "grid_row": null,
            "grid_template_areas": null,
            "grid_template_columns": null,
            "grid_template_rows": null,
            "height": null,
            "justify_content": null,
            "justify_items": null,
            "left": null,
            "margin": null,
            "max_height": null,
            "max_width": null,
            "min_height": null,
            "min_width": null,
            "object_fit": null,
            "object_position": null,
            "order": null,
            "overflow": null,
            "overflow_x": null,
            "overflow_y": null,
            "padding": null,
            "right": null,
            "top": null,
            "visibility": null,
            "width": null
          }
        },
        "e091ec8c84854a74b5acca2890508dc8": {
          "model_module": "@jupyter-widgets/controls",
          "model_name": "DescriptionStyleModel",
          "model_module_version": "1.5.0",
          "state": {
            "_model_module": "@jupyter-widgets/controls",
            "_model_module_version": "1.5.0",
            "_model_name": "DescriptionStyleModel",
            "_view_count": null,
            "_view_module": "@jupyter-widgets/base",
            "_view_module_version": "1.2.0",
            "_view_name": "StyleView",
            "description_width": ""
          }
        },
        "999cfb1ade8d43f68200accef7899d1c": {
          "model_module": "@jupyter-widgets/controls",
          "model_name": "HBoxModel",
          "model_module_version": "1.5.0",
          "state": {
            "_dom_classes": [],
            "_model_module": "@jupyter-widgets/controls",
            "_model_module_version": "1.5.0",
            "_model_name": "HBoxModel",
            "_view_count": null,
            "_view_module": "@jupyter-widgets/controls",
            "_view_module_version": "1.5.0",
            "_view_name": "HBoxView",
            "box_style": "",
            "children": [
              "IPY_MODEL_403a8288a31145bdaecc819e4e47035d",
              "IPY_MODEL_ca0948d24f1341f698938ec045bf0c70",
              "IPY_MODEL_f86ca38405a34392912c359edfe99162"
            ],
            "layout": "IPY_MODEL_0d9868416ac04e5da22c1ff949ca024a"
          }
        },
        "403a8288a31145bdaecc819e4e47035d": {
          "model_module": "@jupyter-widgets/controls",
          "model_name": "HTMLModel",
          "model_module_version": "1.5.0",
          "state": {
            "_dom_classes": [],
            "_model_module": "@jupyter-widgets/controls",
            "_model_module_version": "1.5.0",
            "_model_name": "HTMLModel",
            "_view_count": null,
            "_view_module": "@jupyter-widgets/controls",
            "_view_module_version": "1.5.0",
            "_view_name": "HTMLView",
            "description": "",
            "description_tooltip": null,
            "layout": "IPY_MODEL_cf959668a3d44de097830d45c4a8285a",
            "placeholder": "​",
            "style": "IPY_MODEL_e98cf55b81644243bf1fe3a16d67dac4",
            "value": "100%"
          }
        },
        "ca0948d24f1341f698938ec045bf0c70": {
          "model_module": "@jupyter-widgets/controls",
          "model_name": "FloatProgressModel",
          "model_module_version": "1.5.0",
          "state": {
            "_dom_classes": [],
            "_model_module": "@jupyter-widgets/controls",
            "_model_module_version": "1.5.0",
            "_model_name": "FloatProgressModel",
            "_view_count": null,
            "_view_module": "@jupyter-widgets/controls",
            "_view_module_version": "1.5.0",
            "_view_name": "ProgressView",
            "bar_style": "success",
            "description": "",
            "description_tooltip": null,
            "layout": "IPY_MODEL_ff1d6bad01e44f2c8e6f9271cb8bac70",
            "max": 98,
            "min": 0,
            "orientation": "horizontal",
            "style": "IPY_MODEL_4516aaf28ee7448cb971af479e1836b3",
            "value": 98
          }
        },
        "f86ca38405a34392912c359edfe99162": {
          "model_module": "@jupyter-widgets/controls",
          "model_name": "HTMLModel",
          "model_module_version": "1.5.0",
          "state": {
            "_dom_classes": [],
            "_model_module": "@jupyter-widgets/controls",
            "_model_module_version": "1.5.0",
            "_model_name": "HTMLModel",
            "_view_count": null,
            "_view_module": "@jupyter-widgets/controls",
            "_view_module_version": "1.5.0",
            "_view_name": "HTMLView",
            "description": "",
            "description_tooltip": null,
            "layout": "IPY_MODEL_f40c8872b77d460baed5b36339e7b283",
            "placeholder": "​",
            "style": "IPY_MODEL_c8152861028144debc7d1e787a55d22d",
            "value": " 98/98 [02:32&lt;00:00,  1.40s/it]"
          }
        },
        "0d9868416ac04e5da22c1ff949ca024a": {
          "model_module": "@jupyter-widgets/base",
          "model_name": "LayoutModel",
          "model_module_version": "1.2.0",
          "state": {
            "_model_module": "@jupyter-widgets/base",
            "_model_module_version": "1.2.0",
            "_model_name": "LayoutModel",
            "_view_count": null,
            "_view_module": "@jupyter-widgets/base",
            "_view_module_version": "1.2.0",
            "_view_name": "LayoutView",
            "align_content": null,
            "align_items": null,
            "align_self": null,
            "border": null,
            "bottom": null,
            "display": null,
            "flex": null,
            "flex_flow": null,
            "grid_area": null,
            "grid_auto_columns": null,
            "grid_auto_flow": null,
            "grid_auto_rows": null,
            "grid_column": null,
            "grid_gap": null,
            "grid_row": null,
            "grid_template_areas": null,
            "grid_template_columns": null,
            "grid_template_rows": null,
            "height": null,
            "justify_content": null,
            "justify_items": null,
            "left": null,
            "margin": null,
            "max_height": null,
            "max_width": null,
            "min_height": null,
            "min_width": null,
            "object_fit": null,
            "object_position": null,
            "order": null,
            "overflow": null,
            "overflow_x": null,
            "overflow_y": null,
            "padding": null,
            "right": null,
            "top": null,
            "visibility": null,
            "width": null
          }
        },
        "cf959668a3d44de097830d45c4a8285a": {
          "model_module": "@jupyter-widgets/base",
          "model_name": "LayoutModel",
          "model_module_version": "1.2.0",
          "state": {
            "_model_module": "@jupyter-widgets/base",
            "_model_module_version": "1.2.0",
            "_model_name": "LayoutModel",
            "_view_count": null,
            "_view_module": "@jupyter-widgets/base",
            "_view_module_version": "1.2.0",
            "_view_name": "LayoutView",
            "align_content": null,
            "align_items": null,
            "align_self": null,
            "border": null,
            "bottom": null,
            "display": null,
            "flex": null,
            "flex_flow": null,
            "grid_area": null,
            "grid_auto_columns": null,
            "grid_auto_flow": null,
            "grid_auto_rows": null,
            "grid_column": null,
            "grid_gap": null,
            "grid_row": null,
            "grid_template_areas": null,
            "grid_template_columns": null,
            "grid_template_rows": null,
            "height": null,
            "justify_content": null,
            "justify_items": null,
            "left": null,
            "margin": null,
            "max_height": null,
            "max_width": null,
            "min_height": null,
            "min_width": null,
            "object_fit": null,
            "object_position": null,
            "order": null,
            "overflow": null,
            "overflow_x": null,
            "overflow_y": null,
            "padding": null,
            "right": null,
            "top": null,
            "visibility": null,
            "width": null
          }
        },
        "e98cf55b81644243bf1fe3a16d67dac4": {
          "model_module": "@jupyter-widgets/controls",
          "model_name": "DescriptionStyleModel",
          "model_module_version": "1.5.0",
          "state": {
            "_model_module": "@jupyter-widgets/controls",
            "_model_module_version": "1.5.0",
            "_model_name": "DescriptionStyleModel",
            "_view_count": null,
            "_view_module": "@jupyter-widgets/base",
            "_view_module_version": "1.2.0",
            "_view_name": "StyleView",
            "description_width": ""
          }
        },
        "ff1d6bad01e44f2c8e6f9271cb8bac70": {
          "model_module": "@jupyter-widgets/base",
          "model_name": "LayoutModel",
          "model_module_version": "1.2.0",
          "state": {
            "_model_module": "@jupyter-widgets/base",
            "_model_module_version": "1.2.0",
            "_model_name": "LayoutModel",
            "_view_count": null,
            "_view_module": "@jupyter-widgets/base",
            "_view_module_version": "1.2.0",
            "_view_name": "LayoutView",
            "align_content": null,
            "align_items": null,
            "align_self": null,
            "border": null,
            "bottom": null,
            "display": null,
            "flex": null,
            "flex_flow": null,
            "grid_area": null,
            "grid_auto_columns": null,
            "grid_auto_flow": null,
            "grid_auto_rows": null,
            "grid_column": null,
            "grid_gap": null,
            "grid_row": null,
            "grid_template_areas": null,
            "grid_template_columns": null,
            "grid_template_rows": null,
            "height": null,
            "justify_content": null,
            "justify_items": null,
            "left": null,
            "margin": null,
            "max_height": null,
            "max_width": null,
            "min_height": null,
            "min_width": null,
            "object_fit": null,
            "object_position": null,
            "order": null,
            "overflow": null,
            "overflow_x": null,
            "overflow_y": null,
            "padding": null,
            "right": null,
            "top": null,
            "visibility": null,
            "width": null
          }
        },
        "4516aaf28ee7448cb971af479e1836b3": {
          "model_module": "@jupyter-widgets/controls",
          "model_name": "ProgressStyleModel",
          "model_module_version": "1.5.0",
          "state": {
            "_model_module": "@jupyter-widgets/controls",
            "_model_module_version": "1.5.0",
            "_model_name": "ProgressStyleModel",
            "_view_count": null,
            "_view_module": "@jupyter-widgets/base",
            "_view_module_version": "1.2.0",
            "_view_name": "StyleView",
            "bar_color": null,
            "description_width": ""
          }
        },
        "f40c8872b77d460baed5b36339e7b283": {
          "model_module": "@jupyter-widgets/base",
          "model_name": "LayoutModel",
          "model_module_version": "1.2.0",
          "state": {
            "_model_module": "@jupyter-widgets/base",
            "_model_module_version": "1.2.0",
            "_model_name": "LayoutModel",
            "_view_count": null,
            "_view_module": "@jupyter-widgets/base",
            "_view_module_version": "1.2.0",
            "_view_name": "LayoutView",
            "align_content": null,
            "align_items": null,
            "align_self": null,
            "border": null,
            "bottom": null,
            "display": null,
            "flex": null,
            "flex_flow": null,
            "grid_area": null,
            "grid_auto_columns": null,
            "grid_auto_flow": null,
            "grid_auto_rows": null,
            "grid_column": null,
            "grid_gap": null,
            "grid_row": null,
            "grid_template_areas": null,
            "grid_template_columns": null,
            "grid_template_rows": null,
            "height": null,
            "justify_content": null,
            "justify_items": null,
            "left": null,
            "margin": null,
            "max_height": null,
            "max_width": null,
            "min_height": null,
            "min_width": null,
            "object_fit": null,
            "object_position": null,
            "order": null,
            "overflow": null,
            "overflow_x": null,
            "overflow_y": null,
            "padding": null,
            "right": null,
            "top": null,
            "visibility": null,
            "width": null
          }
        },
        "c8152861028144debc7d1e787a55d22d": {
          "model_module": "@jupyter-widgets/controls",
          "model_name": "DescriptionStyleModel",
          "model_module_version": "1.5.0",
          "state": {
            "_model_module": "@jupyter-widgets/controls",
            "_model_module_version": "1.5.0",
            "_model_name": "DescriptionStyleModel",
            "_view_count": null,
            "_view_module": "@jupyter-widgets/base",
            "_view_module_version": "1.2.0",
            "_view_name": "StyleView",
            "description_width": ""
          }
        },
        "82439032319b466588fcaae8b6d250f7": {
          "model_module": "@jupyter-widgets/controls",
          "model_name": "HBoxModel",
          "model_module_version": "1.5.0",
          "state": {
            "_dom_classes": [],
            "_model_module": "@jupyter-widgets/controls",
            "_model_module_version": "1.5.0",
            "_model_name": "HBoxModel",
            "_view_count": null,
            "_view_module": "@jupyter-widgets/controls",
            "_view_module_version": "1.5.0",
            "_view_name": "HBoxView",
            "box_style": "",
            "children": [
              "IPY_MODEL_c56cee748baa46c48601fba9b8c015bb",
              "IPY_MODEL_73bc5cd437904b0a9297537d3d381aa6",
              "IPY_MODEL_0f1226af9ea54128b8554fd1c9d6485c"
            ],
            "layout": "IPY_MODEL_3d99a3612bf3494a8dbd908d68b661ab"
          }
        },
        "c56cee748baa46c48601fba9b8c015bb": {
          "model_module": "@jupyter-widgets/controls",
          "model_name": "HTMLModel",
          "model_module_version": "1.5.0",
          "state": {
            "_dom_classes": [],
            "_model_module": "@jupyter-widgets/controls",
            "_model_module_version": "1.5.0",
            "_model_name": "HTMLModel",
            "_view_count": null,
            "_view_module": "@jupyter-widgets/controls",
            "_view_module_version": "1.5.0",
            "_view_name": "HTMLView",
            "description": "",
            "description_tooltip": null,
            "layout": "IPY_MODEL_469d09aee8d44bc08c2c7d1ff7962f0a",
            "placeholder": "​",
            "style": "IPY_MODEL_77965620c5ee4019a2580d267f4423ad",
            "value": " 10%"
          }
        },
        "73bc5cd437904b0a9297537d3d381aa6": {
          "model_module": "@jupyter-widgets/controls",
          "model_name": "FloatProgressModel",
          "model_module_version": "1.5.0",
          "state": {
            "_dom_classes": [],
            "_model_module": "@jupyter-widgets/controls",
            "_model_module_version": "1.5.0",
            "_model_name": "FloatProgressModel",
            "_view_count": null,
            "_view_module": "@jupyter-widgets/controls",
            "_view_module_version": "1.5.0",
            "_view_name": "ProgressView",
            "bar_style": "danger",
            "description": "",
            "description_tooltip": null,
            "layout": "IPY_MODEL_f3ad97efe71d45ba9414c0f3535a6097",
            "max": 98,
            "min": 0,
            "orientation": "horizontal",
            "style": "IPY_MODEL_3eacf839b8a64b0eba355d90138e98f7",
            "value": 10
          }
        },
        "0f1226af9ea54128b8554fd1c9d6485c": {
          "model_module": "@jupyter-widgets/controls",
          "model_name": "HTMLModel",
          "model_module_version": "1.5.0",
          "state": {
            "_dom_classes": [],
            "_model_module": "@jupyter-widgets/controls",
            "_model_module_version": "1.5.0",
            "_model_name": "HTMLModel",
            "_view_count": null,
            "_view_module": "@jupyter-widgets/controls",
            "_view_module_version": "1.5.0",
            "_view_name": "HTMLView",
            "description": "",
            "description_tooltip": null,
            "layout": "IPY_MODEL_7f92276b439e43d08a73816cbdedc0d8",
            "placeholder": "​",
            "style": "IPY_MODEL_43f4ffe84d284b9cbbb7e59991da2209",
            "value": " 10/98 [00:17&lt;02:17,  1.56s/it]"
          }
        },
        "3d99a3612bf3494a8dbd908d68b661ab": {
          "model_module": "@jupyter-widgets/base",
          "model_name": "LayoutModel",
          "model_module_version": "1.2.0",
          "state": {
            "_model_module": "@jupyter-widgets/base",
            "_model_module_version": "1.2.0",
            "_model_name": "LayoutModel",
            "_view_count": null,
            "_view_module": "@jupyter-widgets/base",
            "_view_module_version": "1.2.0",
            "_view_name": "LayoutView",
            "align_content": null,
            "align_items": null,
            "align_self": null,
            "border": null,
            "bottom": null,
            "display": null,
            "flex": null,
            "flex_flow": null,
            "grid_area": null,
            "grid_auto_columns": null,
            "grid_auto_flow": null,
            "grid_auto_rows": null,
            "grid_column": null,
            "grid_gap": null,
            "grid_row": null,
            "grid_template_areas": null,
            "grid_template_columns": null,
            "grid_template_rows": null,
            "height": null,
            "justify_content": null,
            "justify_items": null,
            "left": null,
            "margin": null,
            "max_height": null,
            "max_width": null,
            "min_height": null,
            "min_width": null,
            "object_fit": null,
            "object_position": null,
            "order": null,
            "overflow": null,
            "overflow_x": null,
            "overflow_y": null,
            "padding": null,
            "right": null,
            "top": null,
            "visibility": null,
            "width": null
          }
        },
        "469d09aee8d44bc08c2c7d1ff7962f0a": {
          "model_module": "@jupyter-widgets/base",
          "model_name": "LayoutModel",
          "model_module_version": "1.2.0",
          "state": {
            "_model_module": "@jupyter-widgets/base",
            "_model_module_version": "1.2.0",
            "_model_name": "LayoutModel",
            "_view_count": null,
            "_view_module": "@jupyter-widgets/base",
            "_view_module_version": "1.2.0",
            "_view_name": "LayoutView",
            "align_content": null,
            "align_items": null,
            "align_self": null,
            "border": null,
            "bottom": null,
            "display": null,
            "flex": null,
            "flex_flow": null,
            "grid_area": null,
            "grid_auto_columns": null,
            "grid_auto_flow": null,
            "grid_auto_rows": null,
            "grid_column": null,
            "grid_gap": null,
            "grid_row": null,
            "grid_template_areas": null,
            "grid_template_columns": null,
            "grid_template_rows": null,
            "height": null,
            "justify_content": null,
            "justify_items": null,
            "left": null,
            "margin": null,
            "max_height": null,
            "max_width": null,
            "min_height": null,
            "min_width": null,
            "object_fit": null,
            "object_position": null,
            "order": null,
            "overflow": null,
            "overflow_x": null,
            "overflow_y": null,
            "padding": null,
            "right": null,
            "top": null,
            "visibility": null,
            "width": null
          }
        },
        "77965620c5ee4019a2580d267f4423ad": {
          "model_module": "@jupyter-widgets/controls",
          "model_name": "DescriptionStyleModel",
          "model_module_version": "1.5.0",
          "state": {
            "_model_module": "@jupyter-widgets/controls",
            "_model_module_version": "1.5.0",
            "_model_name": "DescriptionStyleModel",
            "_view_count": null,
            "_view_module": "@jupyter-widgets/base",
            "_view_module_version": "1.2.0",
            "_view_name": "StyleView",
            "description_width": ""
          }
        },
        "f3ad97efe71d45ba9414c0f3535a6097": {
          "model_module": "@jupyter-widgets/base",
          "model_name": "LayoutModel",
          "model_module_version": "1.2.0",
          "state": {
            "_model_module": "@jupyter-widgets/base",
            "_model_module_version": "1.2.0",
            "_model_name": "LayoutModel",
            "_view_count": null,
            "_view_module": "@jupyter-widgets/base",
            "_view_module_version": "1.2.0",
            "_view_name": "LayoutView",
            "align_content": null,
            "align_items": null,
            "align_self": null,
            "border": null,
            "bottom": null,
            "display": null,
            "flex": null,
            "flex_flow": null,
            "grid_area": null,
            "grid_auto_columns": null,
            "grid_auto_flow": null,
            "grid_auto_rows": null,
            "grid_column": null,
            "grid_gap": null,
            "grid_row": null,
            "grid_template_areas": null,
            "grid_template_columns": null,
            "grid_template_rows": null,
            "height": null,
            "justify_content": null,
            "justify_items": null,
            "left": null,
            "margin": null,
            "max_height": null,
            "max_width": null,
            "min_height": null,
            "min_width": null,
            "object_fit": null,
            "object_position": null,
            "order": null,
            "overflow": null,
            "overflow_x": null,
            "overflow_y": null,
            "padding": null,
            "right": null,
            "top": null,
            "visibility": null,
            "width": null
          }
        },
        "3eacf839b8a64b0eba355d90138e98f7": {
          "model_module": "@jupyter-widgets/controls",
          "model_name": "ProgressStyleModel",
          "model_module_version": "1.5.0",
          "state": {
            "_model_module": "@jupyter-widgets/controls",
            "_model_module_version": "1.5.0",
            "_model_name": "ProgressStyleModel",
            "_view_count": null,
            "_view_module": "@jupyter-widgets/base",
            "_view_module_version": "1.2.0",
            "_view_name": "StyleView",
            "bar_color": null,
            "description_width": ""
          }
        },
        "7f92276b439e43d08a73816cbdedc0d8": {
          "model_module": "@jupyter-widgets/base",
          "model_name": "LayoutModel",
          "model_module_version": "1.2.0",
          "state": {
            "_model_module": "@jupyter-widgets/base",
            "_model_module_version": "1.2.0",
            "_model_name": "LayoutModel",
            "_view_count": null,
            "_view_module": "@jupyter-widgets/base",
            "_view_module_version": "1.2.0",
            "_view_name": "LayoutView",
            "align_content": null,
            "align_items": null,
            "align_self": null,
            "border": null,
            "bottom": null,
            "display": null,
            "flex": null,
            "flex_flow": null,
            "grid_area": null,
            "grid_auto_columns": null,
            "grid_auto_flow": null,
            "grid_auto_rows": null,
            "grid_column": null,
            "grid_gap": null,
            "grid_row": null,
            "grid_template_areas": null,
            "grid_template_columns": null,
            "grid_template_rows": null,
            "height": null,
            "justify_content": null,
            "justify_items": null,
            "left": null,
            "margin": null,
            "max_height": null,
            "max_width": null,
            "min_height": null,
            "min_width": null,
            "object_fit": null,
            "object_position": null,
            "order": null,
            "overflow": null,
            "overflow_x": null,
            "overflow_y": null,
            "padding": null,
            "right": null,
            "top": null,
            "visibility": null,
            "width": null
          }
        },
        "43f4ffe84d284b9cbbb7e59991da2209": {
          "model_module": "@jupyter-widgets/controls",
          "model_name": "DescriptionStyleModel",
          "model_module_version": "1.5.0",
          "state": {
            "_model_module": "@jupyter-widgets/controls",
            "_model_module_version": "1.5.0",
            "_model_name": "DescriptionStyleModel",
            "_view_count": null,
            "_view_module": "@jupyter-widgets/base",
            "_view_module_version": "1.2.0",
            "_view_name": "StyleView",
            "description_width": ""
          }
        }
      }
    }
  },
  "cells": [
    {
      "cell_type": "markdown",
      "source": [
        "# LAB4: Transformers and ViT LAB\n",
        "Author: Vittorio Pipoli (vittorio.pipoli@unimore.it)\n",
        "\n",
        "Credits: Alexander Wan, Aryan Jain"
      ],
      "metadata": {
        "id": "Tt6WRWv2JXJb"
      }
    },
    {
      "cell_type": "markdown",
      "source": [
        "### Assignment Goals\n",
        "\n",
        "\n",
        "1. Familiarity with the Vision Transformer architecture\n",
        "2. Familiarity with the self-attention mechanism\n",
        "3. Practice with PyTorch matrix operations\n",
        "\n"
      ],
      "metadata": {
        "id": "uTUA3I0hT2EM"
      }
    },
    {
      "cell_type": "markdown",
      "source": [
        "### Tasks\n",
        "1. Implement multi-head self-attention (paper: https://arxiv.org/pdf/1706.03762.pdf)\n",
        "2. Incorporate that into a ViT (paper: https://arxiv.org/pdf/2010.11929.pdf)"
      ],
      "metadata": {
        "id": "QM620ckwWDBo"
      }
    },
    {
      "cell_type": "markdown",
      "source": [
        "### Runtime Acceleration\n",
        "Colab limits GPU usage, so set `device` below as `'cpu'` and change your runtime to CPU as well (Runtime > Change runtime type) when you're developing, and only change it to `'cuda'` (and your runtime to GPU) when you're ready to train."
      ],
      "metadata": {
        "id": "_U_6XOlXM61e"
      }
    },
    {
      "cell_type": "code",
      "source": [
        "#device = 'cpu'\n",
        "device = 'cuda'"
      ],
      "metadata": {
        "id": "dbLiRflPIoPD"
      },
      "execution_count": 1,
      "outputs": []
    },
    {
      "cell_type": "markdown",
      "source": [
        "### Multi-head self-attention\n",
        "Begin by implementing multiheaded self-attention. Do **not** use any `for` loops, and instead put all of the calculations into [batch matrix multiplications](https://pytorch.org/docs/stable/generated/torch.bmm.html), [Linear layers](https://pytorch.org/docs/stable/generated/torch.nn.Linear.html) or use [torch.matmul](https://pytorch.org/docs/stable/generated/torch.matmul.html).\n",
        "\n"
      ],
      "metadata": {
        "id": "VCsSGbgWWul-"
      }
    },
    {
      "cell_type": "code",
      "source": [
        "import torch.nn.functional as F\n",
        "from torch import nn\n",
        "import torch\n",
        "import math\n",
        "\n",
        "class MSA(nn.Module):\n",
        "  def __init__(self, input_dim, embed_dim, num_heads, return_attn_weights=False): # edited for Extra 2\n",
        "    '''\n",
        "    input_dim: Dimension of input token embeddings\n",
        "    embed_dim: Dimension of internal key, query, and value embeddings\n",
        "    num_heads: Number of self-attention heads\n",
        "    '''\n",
        "\n",
        "    super().__init__()\n",
        "\n",
        "    self.return_attn_weights = return_attn_weights # Added for Extra 2\n",
        "\n",
        "    self.input_dim = input_dim\n",
        "    self.embed_dim = embed_dim\n",
        "    self.num_heads = num_heads\n",
        "\n",
        "    self.K_embed = nn.Linear(input_dim, embed_dim, bias=False)\n",
        "    self.Q_embed = nn.Linear(input_dim, embed_dim, bias=False)\n",
        "    self.V_embed = nn.Linear(input_dim, embed_dim, bias=False)\n",
        "    self.out_embed = nn.Linear(embed_dim, embed_dim, bias=False)\n",
        "\n",
        "  def forward(self, x):\n",
        "    '''\n",
        "    x: input of shape (batch_size, max_length, input_dim)\n",
        "    return: output of shape (batch_size, max_length, embed_dim)\n",
        "    '''\n",
        "\n",
        "    batch_size, max_length, given_input_dim = x.shape\n",
        "    assert given_input_dim == self.input_dim\n",
        "    assert self.embed_dim % self.num_heads == 0\n",
        "\n",
        "    # You shouldn't need to initialize any new modules. Everything you need is\n",
        "    # already in __init__\n",
        "\n",
        "    # HINT: If you're stuck on how to handle multiple heads without for loops, try to\n",
        "    # reshape matrix such that the batch_size is num_heads * batch_size\n",
        "    # e.g. if you have two heads, you'd be doing self-attention twice per instance\n",
        "    # in the batch, so you essentially have batch_size * 2\n",
        "\n",
        "    # this implementation projects KQV before splitting into multiple heads\n",
        "    # but you can also split into multiple heads first\n",
        "\n",
        "    # compute K, Q, V\n",
        "    K = self.K_embed(x) # (batch_size, max_length, embed_dim)\n",
        "    # TODO: Compute Q\n",
        "    Q = self.Q_embed(x)\n",
        "    # TODO: Compute V\n",
        "    V = self.V_embed(x)\n",
        "\n",
        "    # TODO: split each KQV into heads, by reshaping each into (batch_size, max_length, self.num_heads, indiv_dim)\n",
        "    indiv_dim = self.embed_dim // self.num_heads\n",
        "    K = K.reshape(batch_size, max_length, self.num_heads, indiv_dim) # TODO\n",
        "    Q = Q.reshape(batch_size, max_length, self.num_heads, indiv_dim)  # TODO\n",
        "    V = V.reshape(batch_size, max_length, self.num_heads, indiv_dim)  # TODO\n",
        "\n",
        "    K = K.permute(0, 2, 1, 3) # (batch_size, num_heads, max_length, embed_dim / num_heads)\n",
        "    Q = Q.permute(0, 2, 1, 3)\n",
        "    V = V.permute(0, 2, 1, 3)\n",
        "\n",
        "    K = K.reshape(batch_size * self.num_heads, max_length, indiv_dim)\n",
        "    Q = Q.reshape(batch_size * self.num_heads, max_length, indiv_dim)\n",
        "    V = V.reshape(batch_size * self.num_heads, max_length, indiv_dim)\n",
        "\n",
        "    # transpose and batch matrix multiply\n",
        "    K_T = K.permute(0, 2, 1) # This is our K transposed so we can do a simple batched matrix multiplication (see torch.bmm for more details and the quick solution)\n",
        "    QK = torch.bmm(Q, K_T) # TODO: Compute the weights before dividing by square root of d (batch_size * num_heads, max_length, max_length)\n",
        "\n",
        "    # calculate weights by dividing everything by the square root of d (self.embed_dim)\n",
        "    weights = QK / math.sqrt(self.embed_dim) # TODO\n",
        "    weights = F.softmax(weights, dim=-1) # TODO Take the softmax over the last dimension (see torch.functional.Softmax) (batch_size * num_heads, max_length, max_length)\n",
        "\n",
        "    w_V = weights @ V # weights is (batch_size * num_heads, max_length, max_length) and V is (batch_size * self.num_heads, max_length, indiv_dim), so we want the matrix product of weights @ V\n",
        "\n",
        "    # rejoin heads\n",
        "    w_V = w_V.reshape(batch_size, self.num_heads, max_length, indiv_dim)\n",
        "    w_V = w_V.permute(0, 2, 1, 3) # (batch_size, max_length, num_heads, embed_dim / num_heads)\n",
        "    w_V = w_V.reshape(batch_size, max_length, self.embed_dim)\n",
        "\n",
        "    out = self.out_embed(w_V)\n",
        "\n",
        "    if self.return_attn_weights: # added for Extra 2\n",
        "      return out, weights\n",
        "\n",
        "    return out\n",
        "    # </SOL>"
      ],
      "metadata": {
        "id": "_q-UREAdT1WL"
      },
      "execution_count": 2,
      "outputs": []
    },
    {
      "cell_type": "markdown",
      "source": [
        "### Implement the ViT architecture\n",
        "You will be implementing the ViT architecture based on the \"An image is worth 16x16 words\" paper.\n",
        "\n",
        "Although the ViT and Transformer architecture are very similar, note a few differences:\n",
        "\n",
        "1. Image patches instead of discrete tokens as input.\n",
        "2. LayerNorm before the sublayer instead of after.\n",
        "3. Learnable [CLS] token at the beginning of the input.\n",
        "\n",
        "A useful reference is Figure 1 in the [paper](https://arxiv.org/pdf/2010.11929.pdf)."
      ],
      "metadata": {
        "id": "ZoajGRYKsI29"
      }
    },
    {
      "cell_type": "markdown",
      "source": [
        "First, implement a single layer:"
      ],
      "metadata": {
        "id": "Blpaw39U5Y9C"
      }
    },
    {
      "cell_type": "code",
      "source": [
        "class ViTLayer(nn.Module):\n",
        "  def __init__(self, num_heads, input_dim, embed_dim, mlp_hidden_dim, dropout=0.1):\n",
        "    '''\n",
        "    num_heads: Number of heads for multi-head self-attention\n",
        "    embed_dim: Dimension of internal key, query, and value embeddings\n",
        "    mlp_hidden_dim: Hidden dimension of the linear layer\n",
        "    dropout: Dropout rate\n",
        "    '''\n",
        "\n",
        "    super().__init__()\n",
        "\n",
        "    self.input_dim = input_dim\n",
        "    self.msa = MSA(input_dim, embed_dim, num_heads)\n",
        "\n",
        "    self.layernorm1 = nn.LayerNorm(embed_dim)\n",
        "    self.w_o_dropout = nn.Dropout(dropout)\n",
        "    self.layernorm2 = nn.LayerNorm(embed_dim)\n",
        "    self.mlp = nn.Sequential(nn.Linear(embed_dim, mlp_hidden_dim),\n",
        "                              nn.GELU(),\n",
        "                              nn.Dropout(dropout),\n",
        "                              nn.Linear(mlp_hidden_dim, embed_dim),\n",
        "                              nn.Dropout(dropout))\n",
        "\n",
        "  def forward(self, x):\n",
        "    '''\n",
        "    x: input embeddings (batch_size, max_length, input_dim)\n",
        "    return: output embeddings (batch_size, max_length, embed_dim)\n",
        "    '''\n",
        "\n",
        "    # TODO: Fill in the code for the forward pass below\n",
        "    # You shouldn't need to initialize any more modules, everything you need is already\n",
        "    # in __init__\n",
        "    # A forward function consists of:\n",
        "    # 1) LayerNorm of x\n",
        "    hidden = self.layernorm1(x)\n",
        "    # 2) Self-Attention on output of 1)\n",
        "    temp = self.msa(hidden) # Added for Extra 2\n",
        "    if type(temp) == list or type(temp) == tuple:\n",
        "      hidden = temp[0]\n",
        "    else:\n",
        "      hidden = temp\n",
        "\n",
        "    # 3) Dropout\n",
        "    hidden = self.w_o_dropout(hidden)\n",
        "    # 4) Residual w/ original x\n",
        "    hidden = hidden + x\n",
        "    # 5) LayerNorm\n",
        "    out = self.layernorm2(hidden)\n",
        "    # 6) MLP\n",
        "    out = self.mlp(out)\n",
        "    # 7) Residual\n",
        "    out = out + hidden\n",
        "\n",
        "    return out\n"
      ],
      "metadata": {
        "id": "DffgJiJDsA9Y"
      },
      "execution_count": 3,
      "outputs": []
    },
    {
      "cell_type": "markdown",
      "source": [
        "Then, we implement the whole ViT architecture"
      ],
      "metadata": {
        "id": "am6A_GZsKYdP"
      }
    },
    {
      "cell_type": "code",
      "source": [
        "class ViT(nn.Module):\n",
        "  def __init__(self, patch_dim, image_dim, num_layers, num_heads, embed_dim, mlp_hidden_dim, num_classes, dropout):\n",
        "    '''\n",
        "    patch_dim: patch length and width to split image by\n",
        "    image_dim: image length and width\n",
        "    num_layers: number of layers in network\n",
        "    num_heads: number of heads for multi-head attention\n",
        "    embed_dim: dimension to project images patches to and dimension to use for position embeddings\n",
        "    mlp_hidden_dim: hidden dimension of linear layer\n",
        "    num_classes: number of classes to classify in data\n",
        "    dropout: dropout rate\n",
        "    '''\n",
        "\n",
        "    super().__init__()\n",
        "    self.num_layers = num_layers\n",
        "    self.patch_dim = patch_dim\n",
        "    self.image_dim = image_dim\n",
        "    self.input_dim = self.patch_dim * self.patch_dim * 3\n",
        "    self.num_heads = num_heads\n",
        "\n",
        "    self.patch_embedding = nn.Linear(self.input_dim, embed_dim)\n",
        "    self.position_embedding = nn.Parameter(torch.zeros(1, (image_dim // patch_dim) ** 2 + 1, embed_dim)) # la penultima dimensione è il numero di token, +1 per il cls\n",
        "    self.cls_token = nn.Parameter(torch.zeros(1, 1, embed_dim))\n",
        "    self.embedding_dropout = nn.Dropout(dropout)\n",
        "\n",
        "    self.encoder_layers = nn.ModuleList([])\n",
        "    for i in range(num_layers):\n",
        "      self.encoder_layers.append(ViTLayer(num_heads, embed_dim, embed_dim, mlp_hidden_dim, dropout))\n",
        "\n",
        "    self.mlp_head = nn.Linear(embed_dim, num_classes)\n",
        "    self.layernorm = nn.LayerNorm(embed_dim)\n",
        "\n",
        "  def forward(self, images):\n",
        "    '''\n",
        "    images: raw image data (batch_size, channels, rows, cols)\n",
        "    '''\n",
        "\n",
        "    # Don't hardcode dimensions (except for maybe channels = 3), use the variables in __init__.\n",
        "    # You shouldn't need to add anything else to __init__, all of the embeddings,\n",
        "    # dropout etc. are already initialized for you.\n",
        "\n",
        "    # Put the preprocessed patches in variable \"out\" with shape (batch_size, length, embed_dim).\n",
        "\n",
        "    # HINT: You can make image patches with .reshape\n",
        "    # e.g.\n",
        "    # x = torch.ones((100, 100))\n",
        "    # x_patches = x.reshape(4, 25, 4, 25)\n",
        "    # where you have 4 * 4 patches with each patch being 25 by 25\n",
        "\n",
        "    h = w = self.image_dim // self.patch_dim\n",
        "    N = images.size(0)\n",
        "    images = images.reshape(N, 3, h, self.patch_dim, w, self.patch_dim)\n",
        "    images = torch.einsum(\"nchpwq -> nhwpqc\", images)\n",
        "    patches = images.reshape(N, h * w, self.input_dim) # (batch, num_patches_per_image, patch_size_unrolled)\n",
        "\n",
        "    patch_embeddings = self.patch_embedding(patches) # TODO: Pass through our patch embedding layer\n",
        "    patch_embeddings = torch.cat([torch.tile(self.cls_token, (N, 1, 1)),\n",
        "                                  patch_embeddings], dim=1)\n",
        "    out = patch_embeddings + torch.tile(self.position_embedding, (N, 1, 1)) # We add positional embeddings to our tokens (not concatenated)\n",
        "    out = self.embedding_dropout(out) # TODO: Pass through our embedding dropout layer\n",
        "\n",
        "    # TODO: Pass through each one of our encoder layers\n",
        "    for layer in self.encoder_layers:\n",
        "      out = layer(out)\n",
        "\n",
        "    # Pop off and read our classification token we added, see what the value is\n",
        "    cls_head = self.layernorm(torch.squeeze(out[:, 0], dim=1))\n",
        "    logits = self.mlp_head(cls_head)\n",
        "    return logits\n",
        "\n",
        "def get_vit_tiny(num_classes=10, patch_dim=4, image_dim=32):\n",
        "    return ViT(patch_dim=patch_dim, image_dim=image_dim, num_layers=12, num_heads=3,\n",
        "              embed_dim=192, mlp_hidden_dim=768, num_classes=num_classes, dropout=0.1)\n",
        "\n",
        "def get_vit_small(num_classes=10, patch_dim=4, image_dim=32):\n",
        "    return ViT(patch_dim=patch_dim, image_dim=image_dim, num_layers=12, num_heads=6,\n",
        "               embed_dim=384, mlp_hidden_dim=1536, num_classes=num_classes, dropout=0.1)"
      ],
      "metadata": {
        "id": "TKbFJj447myz"
      },
      "execution_count": 4,
      "outputs": []
    },
    {
      "cell_type": "markdown",
      "source": [
        "Now let's train the model!\n",
        "\n",
        "Remember to change the device variable (in the cell at the beginning of the notebook) to 'cuda' and change your runtime to GPU (Runtime > Change runtime type) as well.\n",
        "\n",
        "Try to get 60%+ accuracy after 30 epochs."
      ],
      "metadata": {
        "id": "ZJwzQU0qMt9C"
      }
    },
    {
      "cell_type": "code",
      "source": [
        "from torch.utils.data import DataLoader, Dataset\n",
        "import torchvision.transforms as transforms\n",
        "import torchvision\n",
        "import math\n",
        "import torch.optim as optim\n",
        "from tqdm.notebook import tqdm\n",
        "\n",
        "cifar10_mean = torch.tensor([0.49139968, 0.48215827, 0.44653124])\n",
        "cifar10_std = torch.tensor([0.24703233, 0.24348505, 0.26158768])\n",
        "\n",
        "class Cifar10Dataset(Dataset):\n",
        "    def __init__(self, train):\n",
        "        self.transform = transforms.Compose([\n",
        "            transforms.Resize(40),\n",
        "            transforms.RandomCrop(32),\n",
        "            transforms.RandomHorizontalFlip(),\n",
        "            transforms.ToTensor(),\n",
        "            transforms.Normalize(cifar10_mean, cifar10_std)\n",
        "        ])\n",
        "        self.dataset = torchvision.datasets.CIFAR10(root='./SSL-Vision/data',\n",
        "                                                    train=train,\n",
        "                                                    download=True)\n",
        "    def __len__(self):\n",
        "        return len(self.dataset)\n",
        "\n",
        "    def __getitem__(self, idx):\n",
        "        img, label = self.dataset[idx]\n",
        "        img = self.transform(img)\n",
        "        return img, label\n",
        "\n",
        "batch_size = 512\n",
        "\n",
        "trainset = Cifar10Dataset(True)\n",
        "trainloader = DataLoader(trainset, shuffle=True, batch_size=batch_size, num_workers=2) # TODO: Pass our dataset trainset into a torch Dataloader object, with shuffle = True , batch_size=batch_size, num_workers=2\n",
        "\n",
        "testset = Cifar10Dataset(False)\n",
        "testloader = DataLoader(testset, shuffle=False, batch_size=batch_size, num_workers=2) # TODO: create a test dataset the same as the train loader but with shuffle=False and the test dataset\n",
        "\n",
        "classes = ('plane', 'car', 'bird', 'cat',\n",
        "           'deer', 'dog', 'frog', 'horse', 'ship', 'truck')\n",
        "\n",
        "vit = get_vit_small().to(device)\n",
        "vit = torch.nn.DataParallel(vit)\n",
        "\n",
        "learning_rate = 5e-4 * batch_size / 256\n",
        "num_epochs = 30\n",
        "warmup_fraction = 0.1\n",
        "weight_decay = 0.1\n",
        "\n",
        "total_steps = math.ceil(len(trainset) / batch_size) * num_epochs\n",
        "# total_steps = num_epochs\n",
        "warmup_steps = total_steps * warmup_fraction\n",
        "criterion = nn.CrossEntropyLoss()\n",
        "optimizer = optim.AdamW(vit.parameters(), lr=learning_rate, betas=(0.9, 0.95), weight_decay=weight_decay)\n",
        "\n",
        "train_losses = []\n",
        "test_losses = []\n",
        "for epoch in range(num_epochs):\n",
        "    train_loss = 0.0\n",
        "    train_acc = 0.0\n",
        "    train_total = 0\n",
        "    vit.train()\n",
        "    for inputs, labels in tqdm(trainloader):\n",
        "        \"\"\"TODO:\n",
        "        1. Set inputs and labels to be on device\n",
        "        2. zero out our gradients\n",
        "        3. pass our inputs through the ViT\n",
        "        4. pass our outputs / labels into our loss / criterion\n",
        "        5. backpropagate\n",
        "        6. step our optimizeer\n",
        "        \"\"\"\n",
        "        inputs = inputs.to(device)\n",
        "        labels = labels.to(device)\n",
        "        optimizer.zero_grad()\n",
        "        outputs = vit(inputs)\n",
        "\n",
        "        loss = criterion(outputs, labels) # TODO\n",
        "        loss.backward()\n",
        "        optimizer.step()\n",
        "\n",
        "        train_loss += loss.item() * inputs.shape[0]\n",
        "        train_acc += torch.sum((torch.argmax(outputs, dim=1) == labels)).item()\n",
        "        train_total += inputs.shape[0]\n",
        "    train_loss = train_loss / train_total\n",
        "    train_acc = train_acc / train_total\n",
        "    train_losses.append(train_loss)\n",
        "\n",
        "    test_loss = 0.0\n",
        "    test_acc = 0.0\n",
        "    test_total = 0\n",
        "    vit.eval()\n",
        "    with torch.no_grad():\n",
        "        for inputs, labels in testloader:\n",
        "            inputs = inputs.to(device)\n",
        "            labels = labels.to(device)\n",
        "\n",
        "            outputs = vit(inputs)\n",
        "            loss = criterion(outputs, labels.long())\n",
        "\n",
        "            test_loss += loss.item() * inputs.shape[0]\n",
        "            test_acc += torch.sum((torch.argmax(outputs, dim=1) == labels)).item()\n",
        "            test_total += inputs.shape[0]\n",
        "    test_loss = test_loss / test_total\n",
        "    test_acc = test_acc / test_total\n",
        "    test_losses.append(test_loss)\n",
        "\n",
        "    print(f'[{epoch + 1:2d}] train loss: {train_loss:.3f} | train accuracy: {train_acc:.3f} | test_loss: {test_loss:.3f} | test_accuracy: {test_acc:.3f}')\n",
        "\n",
        "print('Finished Training')"
      ],
      "metadata": {
        "id": "fkN5vhqp9eI7",
        "colab": {
          "base_uri": "https://localhost:8080/",
          "height": 525,
          "referenced_widgets": [
            "afcd645567ad427fafb004641ee3d203",
            "5d83aee72cc34a58aaaa9da0769618b1",
            "8b3dc108f4a745d89883970fc5cbbb49",
            "50a0311ad46747edbf549f2b9da3625f",
            "2cd1bd4a3361485a918001e55405153a",
            "69b7725fae5541cc8ed2532b39b9f7c5",
            "2d468b0fb1be4e868e3cf12ea2acadef",
            "f46dc71f8e904c149b536b3f6209ea62",
            "24f06f8b465246ab8e70d46654ca3bc4",
            "34fdbddb88344568a378e6ceaeb40719",
            "2c051424bcdf444586887a148a91973d",
            "b164e02dfb9441078b67f4eb37c73ff6",
            "ada9afd6218248c5afbf0157f2b15395",
            "b526b65945ed422aa5fdb2382fb6faa2",
            "4ea2ed3e374548fd89b1d1d268db2468",
            "981d11b8468b44e1a01fc22df4ce77b6",
            "1c4306bb46d14623a13fc639eba52d58",
            "90728aa2be594b25a1ae34746911b7ea",
            "9cf67de9aafa43d790badc4699d2853d",
            "f3a1a9386d684f2ca7fe53eae583e936",
            "19615a57b2564fd88aa0d99e6ae8f37e",
            "e091ec8c84854a74b5acca2890508dc8",
            "999cfb1ade8d43f68200accef7899d1c",
            "403a8288a31145bdaecc819e4e47035d",
            "ca0948d24f1341f698938ec045bf0c70",
            "f86ca38405a34392912c359edfe99162",
            "0d9868416ac04e5da22c1ff949ca024a",
            "cf959668a3d44de097830d45c4a8285a",
            "e98cf55b81644243bf1fe3a16d67dac4",
            "ff1d6bad01e44f2c8e6f9271cb8bac70",
            "4516aaf28ee7448cb971af479e1836b3",
            "f40c8872b77d460baed5b36339e7b283",
            "c8152861028144debc7d1e787a55d22d",
            "82439032319b466588fcaae8b6d250f7",
            "c56cee748baa46c48601fba9b8c015bb",
            "73bc5cd437904b0a9297537d3d381aa6",
            "0f1226af9ea54128b8554fd1c9d6485c",
            "3d99a3612bf3494a8dbd908d68b661ab",
            "469d09aee8d44bc08c2c7d1ff7962f0a",
            "77965620c5ee4019a2580d267f4423ad",
            "f3ad97efe71d45ba9414c0f3535a6097",
            "3eacf839b8a64b0eba355d90138e98f7",
            "7f92276b439e43d08a73816cbdedc0d8",
            "43f4ffe84d284b9cbbb7e59991da2209"
          ]
        },
        "outputId": "51aa8b2b-6f3b-446f-d9ee-49a14b04c35d"
      },
      "execution_count": 5,
      "outputs": [
        {
          "output_type": "stream",
          "name": "stdout",
          "text": [
            "Downloading https://www.cs.toronto.edu/~kriz/cifar-10-python.tar.gz to ./SSL-Vision/data/cifar-10-python.tar.gz\n"
          ]
        },
        {
          "output_type": "stream",
          "name": "stderr",
          "text": [
            "100%|██████████| 170498071/170498071 [00:01<00:00, 90282136.58it/s] \n"
          ]
        },
        {
          "output_type": "stream",
          "name": "stdout",
          "text": [
            "Extracting ./SSL-Vision/data/cifar-10-python.tar.gz to ./SSL-Vision/data\n",
            "Files already downloaded and verified\n"
          ]
        },
        {
          "output_type": "display_data",
          "data": {
            "text/plain": [
              "  0%|          | 0/98 [00:00<?, ?it/s]"
            ],
            "application/vnd.jupyter.widget-view+json": {
              "version_major": 2,
              "version_minor": 0,
              "model_id": "afcd645567ad427fafb004641ee3d203"
            }
          },
          "metadata": {}
        },
        {
          "output_type": "stream",
          "name": "stdout",
          "text": [
            "[ 1] train loss: 2.076 | train accuracy: 0.223 | test_loss: 1.831 | test_accuracy: 0.293\n"
          ]
        },
        {
          "output_type": "display_data",
          "data": {
            "text/plain": [
              "  0%|          | 0/98 [00:00<?, ?it/s]"
            ],
            "application/vnd.jupyter.widget-view+json": {
              "version_major": 2,
              "version_minor": 0,
              "model_id": "b164e02dfb9441078b67f4eb37c73ff6"
            }
          },
          "metadata": {}
        },
        {
          "output_type": "stream",
          "name": "stdout",
          "text": [
            "[ 2] train loss: 1.735 | train accuracy: 0.334 | test_loss: 1.624 | test_accuracy: 0.383\n"
          ]
        },
        {
          "output_type": "display_data",
          "data": {
            "text/plain": [
              "  0%|          | 0/98 [00:00<?, ?it/s]"
            ],
            "application/vnd.jupyter.widget-view+json": {
              "version_major": 2,
              "version_minor": 0,
              "model_id": "999cfb1ade8d43f68200accef7899d1c"
            }
          },
          "metadata": {}
        },
        {
          "output_type": "stream",
          "name": "stdout",
          "text": [
            "[ 3] train loss: 1.576 | train accuracy: 0.408 | test_loss: 1.622 | test_accuracy: 0.407\n"
          ]
        },
        {
          "output_type": "display_data",
          "data": {
            "text/plain": [
              "  0%|          | 0/98 [00:00<?, ?it/s]"
            ],
            "application/vnd.jupyter.widget-view+json": {
              "version_major": 2,
              "version_minor": 0,
              "model_id": "82439032319b466588fcaae8b6d250f7"
            }
          },
          "metadata": {}
        },
        {
          "output_type": "error",
          "ename": "KeyboardInterrupt",
          "evalue": "ignored",
          "traceback": [
            "\u001b[0;31m---------------------------------------------------------------------------\u001b[0m",
            "\u001b[0;31mKeyboardInterrupt\u001b[0m                         Traceback (most recent call last)",
            "\u001b[0;32m<ipython-input-5-3c432a42467c>\u001b[0m in \u001b[0;36m<cell line: 58>\u001b[0;34m()\u001b[0m\n\u001b[1;32m     79\u001b[0m         \u001b[0moptimizer\u001b[0m\u001b[0;34m.\u001b[0m\u001b[0mstep\u001b[0m\u001b[0;34m(\u001b[0m\u001b[0;34m)\u001b[0m\u001b[0;34m\u001b[0m\u001b[0;34m\u001b[0m\u001b[0m\n\u001b[1;32m     80\u001b[0m \u001b[0;34m\u001b[0m\u001b[0m\n\u001b[0;32m---> 81\u001b[0;31m         \u001b[0mtrain_loss\u001b[0m \u001b[0;34m+=\u001b[0m \u001b[0mloss\u001b[0m\u001b[0;34m.\u001b[0m\u001b[0mitem\u001b[0m\u001b[0;34m(\u001b[0m\u001b[0;34m)\u001b[0m \u001b[0;34m*\u001b[0m \u001b[0minputs\u001b[0m\u001b[0;34m.\u001b[0m\u001b[0mshape\u001b[0m\u001b[0;34m[\u001b[0m\u001b[0;36m0\u001b[0m\u001b[0;34m]\u001b[0m\u001b[0;34m\u001b[0m\u001b[0;34m\u001b[0m\u001b[0m\n\u001b[0m\u001b[1;32m     82\u001b[0m         \u001b[0mtrain_acc\u001b[0m \u001b[0;34m+=\u001b[0m \u001b[0mtorch\u001b[0m\u001b[0;34m.\u001b[0m\u001b[0msum\u001b[0m\u001b[0;34m(\u001b[0m\u001b[0;34m(\u001b[0m\u001b[0mtorch\u001b[0m\u001b[0;34m.\u001b[0m\u001b[0margmax\u001b[0m\u001b[0;34m(\u001b[0m\u001b[0moutputs\u001b[0m\u001b[0;34m,\u001b[0m \u001b[0mdim\u001b[0m\u001b[0;34m=\u001b[0m\u001b[0;36m1\u001b[0m\u001b[0;34m)\u001b[0m \u001b[0;34m==\u001b[0m \u001b[0mlabels\u001b[0m\u001b[0;34m)\u001b[0m\u001b[0;34m)\u001b[0m\u001b[0;34m.\u001b[0m\u001b[0mitem\u001b[0m\u001b[0;34m(\u001b[0m\u001b[0;34m)\u001b[0m\u001b[0;34m\u001b[0m\u001b[0;34m\u001b[0m\u001b[0m\n\u001b[1;32m     83\u001b[0m         \u001b[0mtrain_total\u001b[0m \u001b[0;34m+=\u001b[0m \u001b[0minputs\u001b[0m\u001b[0;34m.\u001b[0m\u001b[0mshape\u001b[0m\u001b[0;34m[\u001b[0m\u001b[0;36m0\u001b[0m\u001b[0;34m]\u001b[0m\u001b[0;34m\u001b[0m\u001b[0;34m\u001b[0m\u001b[0m\n",
            "\u001b[0;31mKeyboardInterrupt\u001b[0m: "
          ]
        }
      ]
    },
    {
      "cell_type": "markdown",
      "source": [
        "# Save/load weights (*)\n",
        "\n"
      ],
      "metadata": {
        "id": "fjAMgMKRH499"
      }
    },
    {
      "cell_type": "code",
      "source": [
        "PATH = \"./vit_small.pt\""
      ],
      "metadata": {
        "id": "1FTJwrhCH39i"
      },
      "execution_count": 6,
      "outputs": []
    },
    {
      "cell_type": "code",
      "source": [
        "#torch.save(vit.state_dict(), PATH)"
      ],
      "metadata": {
        "id": "fINOksUmHQxB"
      },
      "execution_count": 7,
      "outputs": []
    },
    {
      "cell_type": "code",
      "source": [
        "#model.state_dict().keys()"
      ],
      "metadata": {
        "id": "PlujRYOtqAdT"
      },
      "execution_count": 8,
      "outputs": []
    },
    {
      "cell_type": "code",
      "source": [
        "#torch.load(PATH).keys()"
      ],
      "metadata": {
        "id": "jSWHEH2xpbli"
      },
      "execution_count": 9,
      "outputs": []
    },
    {
      "cell_type": "code",
      "source": [
        "vit = get_vit_small().to(device)\n",
        "vit = torch.nn.DataParallel(vit) # Data parallel state_dict has \"module.\" prefix in keys\n",
        "vit.load_state_dict(torch.load(PATH))\n",
        "vit.eval()"
      ],
      "metadata": {
        "id": "hVINLAQhH2N7",
        "colab": {
          "base_uri": "https://localhost:8080/"
        },
        "outputId": "49408f70-da12-4f22-994b-53f1da70f069"
      },
      "execution_count": 10,
      "outputs": [
        {
          "output_type": "execute_result",
          "data": {
            "text/plain": [
              "DataParallel(\n",
              "  (module): ViT(\n",
              "    (patch_embedding): Linear(in_features=48, out_features=384, bias=True)\n",
              "    (embedding_dropout): Dropout(p=0.1, inplace=False)\n",
              "    (encoder_layers): ModuleList(\n",
              "      (0-11): 12 x ViTLayer(\n",
              "        (msa): MSA(\n",
              "          (K_embed): Linear(in_features=384, out_features=384, bias=False)\n",
              "          (Q_embed): Linear(in_features=384, out_features=384, bias=False)\n",
              "          (V_embed): Linear(in_features=384, out_features=384, bias=False)\n",
              "          (out_embed): Linear(in_features=384, out_features=384, bias=False)\n",
              "        )\n",
              "        (layernorm1): LayerNorm((384,), eps=1e-05, elementwise_affine=True)\n",
              "        (w_o_dropout): Dropout(p=0.1, inplace=False)\n",
              "        (layernorm2): LayerNorm((384,), eps=1e-05, elementwise_affine=True)\n",
              "        (mlp): Sequential(\n",
              "          (0): Linear(in_features=384, out_features=1536, bias=True)\n",
              "          (1): GELU(approximate='none')\n",
              "          (2): Dropout(p=0.1, inplace=False)\n",
              "          (3): Linear(in_features=1536, out_features=384, bias=True)\n",
              "          (4): Dropout(p=0.1, inplace=False)\n",
              "        )\n",
              "      )\n",
              "    )\n",
              "    (mlp_head): Linear(in_features=384, out_features=10, bias=True)\n",
              "    (layernorm): LayerNorm((384,), eps=1e-05, elementwise_affine=True)\n",
              "  )\n",
              ")"
            ]
          },
          "metadata": {},
          "execution_count": 10
        }
      ]
    },
    {
      "cell_type": "code",
      "source": [
        "def test_scores():\n",
        "  test_loss = 0.0\n",
        "  test_acc = 0.0\n",
        "  test_total = 0\n",
        "  vit.eval()\n",
        "  with torch.no_grad():\n",
        "      for inputs, labels in testloader:\n",
        "          inputs = inputs.to(device)\n",
        "          labels = labels.to(device)\n",
        "\n",
        "          outputs = vit(inputs)\n",
        "          loss = criterion(outputs, labels.long())\n",
        "\n",
        "          test_loss += loss.item() * inputs.shape[0]\n",
        "          test_acc += torch.sum((torch.argmax(outputs, dim=1) == labels)).item()\n",
        "          test_total += inputs.shape[0]\n",
        "  test_loss = test_loss / test_total\n",
        "  test_acc = test_acc / test_total\n",
        "  test_losses.append(test_loss)\n",
        "\n",
        "  print(f'test_loss: {test_loss:.3f} | test_accuracy: {test_acc:.3f}')"
      ],
      "metadata": {
        "id": "BeB2CQCzlP-O"
      },
      "execution_count": 11,
      "outputs": []
    },
    {
      "cell_type": "code",
      "source": [
        "test_scores()"
      ],
      "metadata": {
        "colab": {
          "base_uri": "https://localhost:8080/"
        },
        "id": "GI9my1snlmjW",
        "outputId": "68024d66-9ad4-4325-b814-852e67c299d3"
      },
      "execution_count": 12,
      "outputs": [
        {
          "output_type": "stream",
          "name": "stdout",
          "text": [
            "test_loss: 0.930 | test_accuracy: 0.668\n"
          ]
        }
      ]
    },
    {
      "cell_type": "markdown",
      "source": [
        "# Visualize architecture (*)"
      ],
      "metadata": {
        "id": "i13sqPkYlvbe"
      }
    },
    {
      "cell_type": "code",
      "source": [
        "!pip install -q torchview"
      ],
      "metadata": {
        "id": "G66RiuFSb-x0"
      },
      "execution_count": 13,
      "outputs": []
    },
    {
      "cell_type": "code",
      "source": [
        "from torchview import draw_graph\n",
        "import graphviz\n",
        "graphviz.set_jupyter_format('png')\n",
        "\n",
        "model = ViT(patch_dim=4, image_dim=32, num_layers=1, num_heads=1, embed_dim=192, mlp_hidden_dim=768, num_classes=10, dropout=0.1)\n",
        "\n",
        "# Draw the graph of the model\n",
        "graph = draw_graph(model, input_size=(1, 3, 32, 32), expand_nested=True)\n",
        "\n",
        "# Show the graph\n",
        "graph.visual_graph"
      ],
      "metadata": {
        "colab": {
          "base_uri": "https://localhost:8080/",
          "height": 1000
        },
        "id": "Jw_IpvEXcB9D",
        "outputId": "6ee53078-7ef3-4b2a-ba36-0a8c47b8ff1e"
      },
      "execution_count": 14,
      "outputs": [
        {
          "output_type": "execute_result",
          "data": {
            "image/png": "[encoded data removed]",
            "text/plain": [
              "<graphviz.graphs.Digraph at 0x7998a1574520>"
            ]
          },
          "metadata": {},
          "execution_count": 14
        }
      ]
    },
    {
      "cell_type": "markdown",
      "source": [
        "# Extra 1\n",
        "Reproduce the plot of the Similarity of position embeddings as shown in Figure 7 of the [ViT Paper](https://arxiv.org/pdf/2010.11929.pdf)\n",
        "\n",
        "Hint: access to the positional embedding with vit.module.position_embedding\n",
        "\n"
      ],
      "metadata": {
        "id": "aa5FDm_QJZPy"
      }
    },
    {
      "cell_type": "code",
      "source": [
        "embs = vit.module.position_embedding.detach().cpu()"
      ],
      "metadata": {
        "id": "sJctFya2J3kc"
      },
      "execution_count": 15,
      "outputs": []
    },
    {
      "cell_type": "code",
      "source": [
        "embs.shape"
      ],
      "metadata": {
        "colab": {
          "base_uri": "https://localhost:8080/"
        },
        "id": "y2ZzqR_mXzHk",
        "outputId": "c7d551a2-4178-4203-8f22-325193cf711c"
      },
      "execution_count": 16,
      "outputs": [
        {
          "output_type": "execute_result",
          "data": {
            "text/plain": [
              "torch.Size([1, 65, 384])"
            ]
          },
          "metadata": {},
          "execution_count": 16
        }
      ]
    },
    {
      "cell_type": "code",
      "source": [
        "import torch.nn.functional as F\n",
        "\n",
        "embs = embs.squeeze()\n",
        "similarity = F.normalize(embs, dim=1) @ F.normalize(embs, dim=1).T\n",
        "similarity"
      ],
      "metadata": {
        "id": "ytfFFUmfZyI0",
        "colab": {
          "base_uri": "https://localhost:8080/"
        },
        "outputId": "26525603-9e76-4f66-d4e1-343aea64b1c8"
      },
      "execution_count": 17,
      "outputs": [
        {
          "output_type": "execute_result",
          "data": {
            "text/plain": [
              "tensor([[ 1.0000, -0.0308, -0.1251,  ..., -0.0053, -0.0185,  0.0318],\n",
              "        [-0.0308,  1.0000,  0.8411,  ..., -0.2838, -0.1482,  0.2477],\n",
              "        [-0.1251,  0.8411,  1.0000,  ..., -0.2974, -0.1532,  0.0559],\n",
              "        ...,\n",
              "        [-0.0053, -0.2838, -0.2974,  ...,  1.0000,  0.8600,  0.6301],\n",
              "        [-0.0185, -0.1482, -0.1532,  ...,  0.8600,  1.0000,  0.7290],\n",
              "        [ 0.0318,  0.2477,  0.0559,  ...,  0.6301,  0.7290,  1.0000]])"
            ]
          },
          "metadata": {},
          "execution_count": 17
        }
      ]
    },
    {
      "cell_type": "code",
      "source": [
        "import matplotlib.pyplot as plt\n",
        "plt.matshow(similarity.numpy())"
      ],
      "metadata": {
        "colab": {
          "base_uri": "https://localhost:8080/",
          "height": 455
        },
        "id": "u3e77V8WY6W7",
        "outputId": "4928ea91-dcf1-43c4-c559-671bf5c2a56b"
      },
      "execution_count": 18,
      "outputs": [
        {
          "output_type": "execute_result",
          "data": {
            "text/plain": [
              "<matplotlib.image.AxesImage at 0x7997c4aeedd0>"
            ]
          },
          "metadata": {},
          "execution_count": 18
        },
        {
          "output_type": "display_data",
          "data": {
            "text/plain": [
              "<Figure size 480x480 with 1 Axes>"
            ],
            "image/png": "[encoded data removed]"
          },
          "metadata": {}
        }
      ]
    },
    {
      "cell_type": "markdown",
      "source": [
        "# Extra 2\n",
        "Reproduce the plot shown in Figure 6 ([ViT Paper](https://arxiv.org/pdf/2010.11929.pdf)) with images that you wish.\n",
        "\n",
        " Hint: Compute the attention that the CLS tokens pay with respect to the rest of the sequence. Then reshape these tensor to have the dimensionalities of an image. To aggregate the attention weights of more CLSs you can take the average. Obviously, you need to change the code of your MSA module so that it gives as output both the output of the attention mechanism and the attention weights."
      ],
      "metadata": {
        "id": "it0-lZLFK4nF"
      }
    },
    {
      "cell_type": "code",
      "source": [
        "import requests\n",
        "from PIL import Image\n",
        "import torch\n",
        "from torchvision import transforms\n",
        "\n",
        "# URL of the image\n",
        "#url = \"https://i.ytimg.com/vi/Cs12sfnFkYs/hqdefault.jpg\"\n",
        "url = \"https://www.my-personaltrainer.it/2023/07/26/gatto-che-fissa_900x760.jpeg\"\n",
        "\n",
        "# Send a HTTP request to the URL of the image\n",
        "response = requests.get(url, stream=True)\n",
        "response.raise_for_status()\n",
        "\n",
        "image = Image.open(response.raw)\n",
        "\n",
        "transform = transforms.Compose([\n",
        "    transforms.Resize((32, 32)),\n",
        "    transforms.ToTensor(),\n",
        "])\n",
        "\n",
        "inp = transform(image)\n",
        "inp = inp.unsqueeze(0)"
      ],
      "metadata": {
        "id": "cWAGAj3SvJAA"
      },
      "execution_count": 70,
      "outputs": []
    },
    {
      "cell_type": "code",
      "source": [
        "# To get the output of the last encoder, a forward_hook needs to be defined\n",
        "hooks_outputs = []\n",
        "\n",
        "def my_hook(module, input, output):\n",
        "  hooks_outputs.append(output)\n",
        "\n",
        "vit.module.encoder_layers[-1].msa.return_attn_weights = True\n",
        "vit.module.encoder_layers[-1].msa.register_forward_hook(my_hook)\n",
        "\n",
        "outputs = vit(inp)\n",
        "classes[torch.argmax(outputs, dim=1).item()]"
      ],
      "metadata": {
        "colab": {
          "base_uri": "https://localhost:8080/",
          "height": 36
        },
        "id": "jijhwTeKwX_X",
        "outputId": "395ddef5-c772-477d-b202-c1c365133688"
      },
      "execution_count": 71,
      "outputs": [
        {
          "output_type": "execute_result",
          "data": {
            "text/plain": [
              "'cat'"
            ],
            "application/vnd.google.colaboratory.intrinsic+json": {
              "type": "string"
            }
          },
          "metadata": {},
          "execution_count": 71
        }
      ]
    },
    {
      "cell_type": "code",
      "source": [
        "plt.bar(classes, outputs[0].detach().cpu().numpy())"
      ],
      "metadata": {
        "colab": {
          "base_uri": "https://localhost:8080/",
          "height": 448
        },
        "id": "U9NPdLcxjKeP",
        "outputId": "6d416c34-f237-419b-8b52-1d37c1fbf56c"
      },
      "execution_count": 84,
      "outputs": [
        {
          "output_type": "execute_result",
          "data": {
            "text/plain": [
              "<BarContainer object of 10 artists>"
            ]
          },
          "metadata": {},
          "execution_count": 84
        },
        {
          "output_type": "display_data",
          "data": {
            "text/plain": [
              "<Figure size 640x480 with 1 Axes>"
            ],
            "image/png": "[encoded data removed]"
          },
          "metadata": {}
        }
      ]
    },
    {
      "cell_type": "code",
      "source": [
        "_, weights = hooks_outputs[0] # attn weights of the last encoder layer\n",
        "weights = weights.detach().cpu()\n",
        "weights.shape"
      ],
      "metadata": {
        "colab": {
          "base_uri": "https://localhost:8080/"
        },
        "id": "zNX0YEMzuiX_",
        "outputId": "43728d00-86b0-47a4-9678-3ae17a7face4"
      },
      "execution_count": 72,
      "outputs": [
        {
          "output_type": "execute_result",
          "data": {
            "text/plain": [
              "torch.Size([6, 65, 65])"
            ]
          },
          "metadata": {},
          "execution_count": 72
        }
      ]
    },
    {
      "cell_type": "code",
      "source": [
        "import matplotlib.pyplot as plt\n",
        "\n",
        "fig, axes = plt.subplots(1, weights.shape[0])\n",
        "\n",
        "for head_idx in range(weights.shape[0]):\n",
        "  axes[head_idx].matshow(weights[head_idx].numpy())\n",
        "  axes[head_idx].set_xticks([])\n",
        "  axes[head_idx].set_yticks([])\n",
        "\n",
        "plt"
      ],
      "metadata": {
        "colab": {
          "base_uri": "https://localhost:8080/",
          "height": 125
        },
        "id": "uCvhI9vAa_dD",
        "outputId": "1cddde4d-90a4-4dfd-c9b4-989983019f39"
      },
      "execution_count": 73,
      "outputs": [
        {
          "output_type": "execute_result",
          "data": {
            "text/plain": [
              "<module 'matplotlib.pyplot' from '/usr/local/lib/python3.10/dist-packages/matplotlib/pyplot.py'>"
            ]
          },
          "metadata": {},
          "execution_count": 73
        },
        {
          "output_type": "display_data",
          "data": {
            "text/plain": [
              "<Figure size 640x480 with 6 Axes>"
            ],
            "image/png": "[encoded data removed]"
          },
          "metadata": {}
        }
      ]
    },
    {
      "cell_type": "code",
      "source": [
        "weights = weights.mean(dim=0)\n",
        "plt.matshow(weights.numpy())"
      ],
      "metadata": {
        "colab": {
          "base_uri": "https://localhost:8080/",
          "height": 455
        },
        "id": "6wdCFU7Kitre",
        "outputId": "a7a00076-34ab-4457-bb13-980deb4ad995"
      },
      "execution_count": 74,
      "outputs": [
        {
          "output_type": "execute_result",
          "data": {
            "text/plain": [
              "<matplotlib.image.AxesImage at 0x799423eee350>"
            ]
          },
          "metadata": {},
          "execution_count": 74
        },
        {
          "output_type": "display_data",
          "data": {
            "text/plain": [
              "<Figure size 480x480 with 1 Axes>"
            ],
            "image/png": "[encoded data removed]"
          },
          "metadata": {}
        }
      ]
    },
    {
      "cell_type": "code",
      "source": [
        "patches_weights = F.normalize(weights[0, :], dim=-1)[1:]\n",
        "patches_weights = patches_weights.reshape(8, 8)\n",
        "\n",
        "pixel_weights = torch.zeros((32, 32), dtype=torch.float32)\n",
        "\n",
        "for r in range(8):\n",
        "  for c in range(8):\n",
        "    pixel_weights[(4*r):(4*(r+1)), (4*c):(4*(c+1))] = patches_weights[r, c]"
      ],
      "metadata": {
        "id": "xIP973FLcboM"
      },
      "execution_count": 75,
      "outputs": []
    },
    {
      "cell_type": "code",
      "source": [
        "plt.matshow(pixel_weights.numpy())"
      ],
      "metadata": {
        "colab": {
          "base_uri": "https://localhost:8080/",
          "height": 455
        },
        "id": "_Fu7v87-e0cb",
        "outputId": "35620fc0-48ff-4ff0-b36b-12c275b5f169"
      },
      "execution_count": 76,
      "outputs": [
        {
          "output_type": "execute_result",
          "data": {
            "text/plain": [
              "<matplotlib.image.AxesImage at 0x799423d90520>"
            ]
          },
          "metadata": {},
          "execution_count": 76
        },
        {
          "output_type": "display_data",
          "data": {
            "text/plain": [
              "<Figure size 480x480 with 1 Axes>"
            ],
            "image/png": "[encoded data removed]"
          },
          "metadata": {}
        }
      ]
    },
    {
      "cell_type": "code",
      "source": [
        "original = inp.squeeze(0).permute(1, 2, 0)\n",
        "focus = (inp.squeeze(0) * pixel_weights).permute(1, 2, 0)\n",
        "\n",
        "fig, axes = plt.subplots(1, 2)\n",
        "axes[0].imshow(original)\n",
        "axes[1].imshow(focus)\n",
        "plt.show()"
      ],
      "metadata": {
        "colab": {
          "base_uri": "https://localhost:8080/",
          "height": 288
        },
        "id": "Oh-NF0vfe_5I",
        "outputId": "b5e0db01-ef0a-4534-f6f6-5f48788ff5b5"
      },
      "execution_count": 77,
      "outputs": [
        {
          "output_type": "display_data",
          "data": {
            "text/plain": [
              "<Figure size 640x480 with 2 Axes>"
            ],
            "image/png": "[encoded data removed]"
          },
          "metadata": {}
        }
      ]
    }
  ]
}